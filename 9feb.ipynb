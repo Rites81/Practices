{
 "cells": [
  {
   "cell_type": "markdown",
   "id": "f97d3ef4",
   "metadata": {},
   "source": [
    "# Create a vehicle class with an init method having instance variables as name_of_vehicle, max_speedand average_of_vehicle."
   ]
  },
  {
   "cell_type": "code",
   "execution_count": 3,
   "id": "50f3e228",
   "metadata": {},
   "outputs": [
    {
     "name": "stdout",
     "output_type": "stream",
     "text": [
      "Car\n",
      "200\n",
      "30\n"
     ]
    }
   ],
   "source": [
    "class Vehicle:\n",
    "    def __init__(self, name_of_vehicle, max_speed, average_of_vehicle):\n",
    "        self.name_of_vehicle = name_of_vehicle\n",
    "        self.max_speed = max_speed\n",
    "        self.average_of_vehicle = average_of_vehicle\n",
    "car = Vehicle(\"Car\", 200, 30)\n",
    "print(car.name_of_vehicle)          r\n",
    "print(car.max_speed)                 \n",
    "print(car.average_of_vehicle)        \n"
   ]
  },
  {
   "cell_type": "markdown",
   "id": "49fcd736",
   "metadata": {},
   "source": [
    "### Q2. Create a child class car from the vehicle class created in Que 1, which will inherit the vehicle class Create a method named seating_capacity which takes capacity as an argument and returns the name of the vehicle and its seating capacity."
   ]
  },
  {
   "cell_type": "code",
   "execution_count": 6,
   "id": "6c03a546",
   "metadata": {},
   "outputs": [
    {
     "name": "stdout",
     "output_type": "stream",
     "text": [
      "Sedan\n",
      "200\n",
      "30\n",
      "The Sedan has a seating capacity of 5.\n"
     ]
    }
   ],
   "source": [
    "class Car(Vehicle):\n",
    "    def seating_capacity(self, capacity):\n",
    "        return f\"The {self.name_of_vehicle} has a seating capacity of {capacity}.\"\n",
    "\n",
    "\n",
    "car = Car(\"Sedan\", 200, 30)\n",
    "\n",
    "\n",
    "print(car.name_of_vehicle)          \n",
    "print(car.max_speed)                \n",
    "print(car.average_of_vehicle)       \n",
    "\n",
    "\n",
    "print(car.seating_capacity(5))      \n",
    "\n"
   ]
  },
  {
   "cell_type": "code",
   "execution_count": null,
   "id": "0893753d",
   "metadata": {},
   "outputs": [],
   "source": []
  },
  {
   "cell_type": "code",
   "execution_count": 7,
   "id": "d04769fb",
   "metadata": {},
   "outputs": [],
   "source": [
    "## Q3. What is multiple inheritance? Write a python code to demonstrate multiple inheritance."
   ]
  },
  {
   "cell_type": "code",
   "execution_count": 9,
   "id": "bdeacf6e",
   "metadata": {},
   "outputs": [],
   "source": [
    "## Multiple inheritance is a feature in object-oriented programming languages where a class can inherit attributes and methods from multiple parent classes. "
   ]
  },
  {
   "cell_type": "code",
   "execution_count": 10,
   "id": "226d970c",
   "metadata": {},
   "outputs": [
    {
     "name": "stdout",
     "output_type": "stream",
     "text": [
      "Sparrow is eating.\n",
      "Flying...\n"
     ]
    }
   ],
   "source": [
    "class Animal:\n",
    "    def __init__(self, name):\n",
    "        self.name = name\n",
    "\n",
    "    def eat(self):\n",
    "        print(f\"{self.name} is eating.\")\n",
    "\n",
    "class Flyable:\n",
    "    def fly(self):\n",
    "        print(\"Flying...\")\n",
    "\n",
    "class Bird(Animal, Flyable):\n",
    "    def __init__(self, name):\n",
    "        super().__init__(name)\n",
    "\n",
    "bird = Bird(\"Sparrow\")\n",
    "bird.eat()   \n",
    "bird.fly()    \n"
   ]
  },
  {
   "cell_type": "markdown",
   "id": "88faa9fa",
   "metadata": {},
   "source": [
    "## Q4. What are getter and setter in python? Create a class and create a getter and a setter method in this class.\n",
    "\n",
    "### In Python, getters and setters are methods used to access and modify the values of class attributes. They provide a way to encapsulate attribute access and enable control over how attributes are read and written. Getters are used to retrieve the value of an attribute, while setters are used to modify or set the value of an attribute."
   ]
  },
  {
   "cell_type": "code",
   "execution_count": 13,
   "id": "35a0f829",
   "metadata": {},
   "outputs": [
    {
     "name": "stdout",
     "output_type": "stream",
     "text": [
      "John\n",
      "Alice\n"
     ]
    }
   ],
   "source": [
    "class Person:\n",
    "    def __init__(self, name):\n",
    "        self._name = name\n",
    "\n",
    "    def get_name(self):\n",
    "        return self._name\n",
    "\n",
    "    def set_name(self, new_name):\n",
    "        self._name = new_name\n",
    "\n",
    "person = Person(\"John\")\n",
    "\n",
    "print(person.get_name())\n",
    "person.set_name(\"Alice\")\n",
    "print(person.get_name())   "
   ]
  },
  {
   "cell_type": "markdown",
   "id": "56ae97e6",
   "metadata": {},
   "source": [
    "## Q5.What is method overriding in python? Write a python code to demonstrate method overriding.\n",
    "\n",
    "\n",
    "### Method overriding is a concept in object-oriented programming where a subclass provides its own implementation of a method that is already defined in its parent class. When a method is overridden in the subclass, the subclass version of the method is executed instead of the parent class version."
   ]
  },
  {
   "cell_type": "code",
   "execution_count": 14,
   "id": "c61d9cf5",
   "metadata": {},
   "outputs": [
    {
     "name": "stdout",
     "output_type": "stream",
     "text": [
      "Animal makes a sound.\n",
      "Dog barks.\n"
     ]
    }
   ],
   "source": [
    "class Animal:\n",
    "    def sound(self):\n",
    "        print(\"Animal makes a sound.\")\n",
    "\n",
    "class Dog(Animal):\n",
    "    def sound(self):\n",
    "        print(\"Dog barks.\")\n",
    "\n",
    "animal = Animal()\n",
    "dog = Dog()\n",
    "\n",
    "\n",
    "animal.sound()    \n",
    "dog.sound()       \n"
   ]
  },
  {
   "cell_type": "code",
   "execution_count": null,
   "id": "5ddc5b16",
   "metadata": {},
   "outputs": [],
   "source": []
  }
 ],
 "metadata": {
  "kernelspec": {
   "display_name": "Python 3 (ipykernel)",
   "language": "python",
   "name": "python3"
  },
  "language_info": {
   "codemirror_mode": {
    "name": "ipython",
    "version": 3
   },
   "file_extension": ".py",
   "mimetype": "text/x-python",
   "name": "python",
   "nbconvert_exporter": "python",
   "pygments_lexer": "ipython3",
   "version": "3.10.10"
  }
 },
 "nbformat": 4,
 "nbformat_minor": 5
}
